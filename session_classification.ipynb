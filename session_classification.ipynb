{
 "cells": [
  {
   "cell_type": "code",
   "execution_count": 24,
   "metadata": {},
   "outputs": [
    {
     "name": "stderr",
     "output_type": "stream",
     "text": [
      "/home/ec2-user/anaconda3/envs/tensorflow_p36/lib/python3.6/site-packages/sklearn/cross_validation.py:41: DeprecationWarning: This module was deprecated in version 0.18 in favor of the model_selection module into which all the refactored classes and functions are moved. Also note that the interface of the new CV iterators are different from that of this module. This module will be removed in 0.20.\n",
      "  \"This module will be removed in 0.20.\", DeprecationWarning)\n"
     ]
    }
   ],
   "source": [
    "import pandas as pd\n",
    "from sklearn.cross_validation import train_test_split\n",
    "pd.set_option('display.max_columns', None)\n",
    "pd.set_option('display.float_format', lambda x: '%.3f' % x)"
   ]
  },
  {
   "cell_type": "code",
   "execution_count": 4,
   "metadata": {},
   "outputs": [],
   "source": [
    "data = pd.read_csv('./data/session.csv',encoding='gb18030')"
   ]
  },
  {
   "cell_type": "code",
   "execution_count": 7,
   "metadata": {},
   "outputs": [
    {
     "data": {
      "text/html": [
       "<div>\n",
       "<style scoped>\n",
       "    .dataframe tbody tr th:only-of-type {\n",
       "        vertical-align: middle;\n",
       "    }\n",
       "\n",
       "    .dataframe tbody tr th {\n",
       "        vertical-align: top;\n",
       "    }\n",
       "\n",
       "    .dataframe thead th {\n",
       "        text-align: right;\n",
       "    }\n",
       "</style>\n",
       "<table border=\"1\" class=\"dataframe\">\n",
       "  <thead>\n",
       "    <tr style=\"text-align: right;\">\n",
       "      <th></th>\n",
       "      <th>用户ID</th>\n",
       "      <th>会话开始时间</th>\n",
       "      <th>咨询类型</th>\n",
       "      <th>咨询总结备注</th>\n",
       "      <th>详情</th>\n",
       "    </tr>\n",
       "  </thead>\n",
       "  <tbody>\n",
       "    <tr>\n",
       "      <th>0</th>\n",
       "      <td>31964968</td>\n",
       "      <td>2019-05-23 23:55:11</td>\n",
       "      <td>售前问题（在线专用）-&gt;商品咨询 - -</td>\n",
       "      <td>nan</td>\n",
       "      <td>机器人2(蜜芽智能客服) 2019-05-23 23:55:11\\n[xh]甄选洗衣液销售火...</td>\n",
       "    </tr>\n",
       "    <tr>\n",
       "      <th>1</th>\n",
       "      <td>32860495</td>\n",
       "      <td>2019-05-23 23:54:58</td>\n",
       "      <td>售中问题（在线专用）-&gt;物流问题 - -</td>\n",
       "      <td>nan</td>\n",
       "      <td>机器人4(蜜芽智能客服) 2019-05-23 23:54:58\\n[xh]甄选洗衣液销售火...</td>\n",
       "    </tr>\n",
       "    <tr>\n",
       "      <th>2</th>\n",
       "      <td>24009062</td>\n",
       "      <td>2019-05-23 23:54:03</td>\n",
       "      <td>售中问题（在线专用）-&gt;物流问题 - -</td>\n",
       "      <td>nan</td>\n",
       "      <td>机器人3(蜜芽智能客服) 2019-05-23 23:54:03\\n[xh]甄选洗衣液销售火...</td>\n",
       "    </tr>\n",
       "    <tr>\n",
       "      <th>3</th>\n",
       "      <td>34644663</td>\n",
       "      <td>2019-05-23 23:53:11</td>\n",
       "      <td>售前问题（在线专用）-&gt;商品咨询 - -</td>\n",
       "      <td>nan</td>\n",
       "      <td>机器人2(蜜芽智能客服) 2019-05-23 23:53:11\\n[xh]甄选洗衣液销售火...</td>\n",
       "    </tr>\n",
       "    <tr>\n",
       "      <th>4</th>\n",
       "      <td>38445693</td>\n",
       "      <td>2019-05-23 23:53:02</td>\n",
       "      <td>售中问题（在线专用）-&gt;取消订单 - -</td>\n",
       "      <td>nan</td>\n",
       "      <td>机器人1(蜜芽智能客服) 2019-05-23 23:53:02\\n[xh]甄选洗衣液销售火...</td>\n",
       "    </tr>\n",
       "  </tbody>\n",
       "</table>\n",
       "</div>"
      ],
      "text/plain": [
       "       用户ID               会话开始时间                  咨询类型  咨询总结备注  \\\n",
       "0  31964968  2019-05-23 23:55:11  售前问题（在线专用）->商品咨询 - -     nan   \n",
       "1  32860495  2019-05-23 23:54:58  售中问题（在线专用）->物流问题 - -     nan   \n",
       "2  24009062  2019-05-23 23:54:03  售中问题（在线专用）->物流问题 - -     nan   \n",
       "3  34644663  2019-05-23 23:53:11  售前问题（在线专用）->商品咨询 - -     nan   \n",
       "4  38445693  2019-05-23 23:53:02  售中问题（在线专用）->取消订单 - -     nan   \n",
       "\n",
       "                                                  详情  \n",
       "0  机器人2(蜜芽智能客服) 2019-05-23 23:55:11\\n[xh]甄选洗衣液销售火...  \n",
       "1  机器人4(蜜芽智能客服) 2019-05-23 23:54:58\\n[xh]甄选洗衣液销售火...  \n",
       "2  机器人3(蜜芽智能客服) 2019-05-23 23:54:03\\n[xh]甄选洗衣液销售火...  \n",
       "3  机器人2(蜜芽智能客服) 2019-05-23 23:53:11\\n[xh]甄选洗衣液销售火...  \n",
       "4  机器人1(蜜芽智能客服) 2019-05-23 23:53:02\\n[xh]甄选洗衣液销售火...  "
      ]
     },
     "execution_count": 7,
     "metadata": {},
     "output_type": "execute_result"
    }
   ],
   "source": [
    "data.head()"
   ]
  },
  {
   "cell_type": "code",
   "execution_count": 14,
   "metadata": {},
   "outputs": [
    {
     "data": {
      "text/plain": [
       "0    机器人2(蜜芽智能客服) 2019-05-23 23:55:11\\n[xh]甄选洗衣液销售火...\n",
       "Name: 详情, dtype: object"
      ]
     },
     "execution_count": 14,
     "metadata": {},
     "output_type": "execute_result"
    }
   ],
   "source": [
    "data[data['用户ID']=='31964968']['详情']"
   ]
  },
  {
   "cell_type": "code",
   "execution_count": 17,
   "metadata": {},
   "outputs": [
    {
     "data": {
      "text/plain": [
       "array(['售前问题（在线专用）->商品咨询 - -', '售中问题（在线专用）->物流问题 - -',\n",
       "       '售中问题（在线专用）->取消订单 - -', '售后问题（在线专用）->无理由退换货 - -',\n",
       "       '售后问题（在线专用）->少件 - -', '售后问题（在线专用）->技术问题 - -',\n",
       "       '售前问题（在线专用）->活动咨询浦发银行 - -', '临时问题（在线专用）->临时问题 - -',\n",
       "       '规则问题（商管专用）->会员账户 - -', '售前问题（在线专用）->活动咨询（主站活动咨询） - -',\n",
       "       '售前问题（在线专用）->政策咨询 - -', 'plus分销->PLUS会员提现问题 - -',\n",
       "       'plus分销->PLUS会员政策咨询 - -', '售后问题（在线专用）->质量问题 - -',\n",
       "       '售中问题（在线专用）->修改订单 - -', '售后问题（在线专用）->页面与实物不符 - -',\n",
       "       '售后问题（在线专用）->商品使用咨询 - -', '售后问题（在线专用）->催退款 - -',\n",
       "       '无效咨询（在线专用）->无效咨询 - -', '社群专用->订单问题（售后问题相关） - -',\n",
       "       '社群专用->小寰基础操作（登录、修改资料等） - -', '入驻问题（商管专用）->入驻咨询 - -',\n",
       "       '售前问题（在线专用）->活动咨询（plus问题咨询） - -', 'plus分销->PLUS技术问题 - -',\n",
       "       '售后问题（在线专用）->发错货 - -', '临时问题（在线专用）->解绑手机 - -',\n",
       "       '售后问题（在线专用）->保价 - -', '售中问题（在线专用）->催发货 - -',\n",
       "       '售前问题（在线专用）->活动咨询话费充值 - -', 'plus分销->PLUS大礼包相关 - -',\n",
       "       '售后问题（在线专用）->破损 - -', '售后问题（在线专用）->发票 - -',\n",
       "       '社群专用->账户及收益（查销售额、升级业绩等） - -', '售后问题（在线专用）->合作问题 - -',\n",
       "       '社群专用->售前咨询 - -', '售中问题（在线专用）->支付异常 - -', 'plus分销->PLUS订单返佣问题 - -',\n",
       "       'plus分销->PLUS会员账户手机号修改 - -', 'plus分销->PLUS会员身份取消 - -',\n",
       "       '售中问题（在线专用）->缺货 - -', '售后问题（在线专用）->无理由退换货 售后问题（在线专用）->催退款 -',\n",
       "       '售后问题（在线专用）->补差价 - -', '售后问题（在线专用）->税金问题 - -',\n",
       "       '售前问题（在线专用）->活动咨询加油卡充值 - -', '售中问题（在线专用）->保税区订单 - -',\n",
       "       '售后问题（在线专用）->效期问题 - -', '售后问题（在线专用）->退款失败 - -',\n",
       "       '售前问题（在线专用）->活动咨询腾讯大王卡 - -', '商品问题（商管专用）->活动提报 - -',\n",
       "       '订单问题（商管专用）->订单取消、暂停发货、取消冻结 - -', '财务问题（商管专用）->退款查询 - -',\n",
       "       '店铺问题（商管专用）->系统咨询（预警） - -', '订单问题（商管专用）->核实买家信息 - -',\n",
       "       '财务问题（商管专用）->保价 - -', '财务问题（商管专用）->退运费 - -',\n",
       "       '售后问题（商管专用）->取消售后单 - -', '商品问题（商管专用）->发布、编辑商品 - -',\n",
       "       '入驻问题（商管专用）->缴纳保证金 - -', '售后问题（商管专用）->工单处理 - -', '默认分组->产品咨询 - -',\n",
       "       '订单问题（商管专用）->订单修改 - -', '售后问题（商管专用）->退/换货审核 - -',\n",
       "       '订单问题（商管专用）->订单特殊事件备注 - -', '订单问题（商管专用）->查询订单 - -',\n",
       "       '财务问题（商管专用）->代金券 - -', '售前问题（在线专用）->政策咨询 售前问题（在线专用）->商品咨询 -',\n",
       "       '售后问题（蜜店宝）->少件 - -', '店铺问题（商管专用）->店铺账户 - -',\n",
       "       '店铺问题（商管专用）->店铺考核 - -', '结算问题（商管专用）->货款结算 - -',\n",
       "       '店铺问题（商管专用）->店铺违规 - -', '店铺问题（商管专用）->退店咨询 - -',\n",
       "       '售后问题（商管专用）->作废质检报告 - -', '商品问题（商管专用）->商品下架、冻结 - -',\n",
       "       '规则问题（商管专用）->退换货政策 - -', '店铺问题（商管专用）->核实商管/采销信息 - -'], dtype=object)"
      ]
     },
     "execution_count": 17,
     "metadata": {},
     "output_type": "execute_result"
    }
   ],
   "source": [
    "data['咨询类型'].unique()"
   ]
  },
  {
   "cell_type": "code",
   "execution_count": 20,
   "metadata": {},
   "outputs": [],
   "source": [
    "class_mapping = {label:idx for idx,label in enumerate(set(data['咨询类型']))}\n",
    "data['label'] = data['咨询类型'].map(class_mapping)"
   ]
  },
  {
   "cell_type": "code",
   "execution_count": 21,
   "metadata": {},
   "outputs": [
    {
     "data": {
      "text/plain": [
       "array([22, 31,  5, 28, 60, 58, 19,  3, 65, 75, 13, 21, 69, 53, 59, 70, 33,\n",
       "       36, 14, 24, 42, 40, 47, 74, 37, 71, 41, 35, 54, 52, 48, 56, 23,  8,\n",
       "       26, 73,  9,  4, 20, 49, 62, 66, 27, 25, 39, 67,  2, 43, 44, 17, 50,\n",
       "       12, 10, 51, 29, 30, 32,  1, 57, 46, 68,  6, 45,  0, 61, 34, 18, 63,\n",
       "       55, 16, 11, 64,  7, 15, 38, 72])"
      ]
     },
     "execution_count": 21,
     "metadata": {},
     "output_type": "execute_result"
    }
   ],
   "source": [
    "data['label'].unique()"
   ]
  },
  {
   "cell_type": "code",
   "execution_count": 22,
   "metadata": {},
   "outputs": [
    {
     "data": {
      "text/plain": [
       "76"
      ]
     },
     "execution_count": 22,
     "metadata": {},
     "output_type": "execute_result"
    }
   ],
   "source": [
    "len(data['label'].unique())"
   ]
  },
  {
   "cell_type": "code",
   "execution_count": 30,
   "metadata": {},
   "outputs": [],
   "source": [
    "data['detail'] = data['详情'].str.replace('\\n', ' ')"
   ]
  },
  {
   "cell_type": "code",
   "execution_count": 31,
   "metadata": {},
   "outputs": [],
   "source": [
    "train, test = train_test_split(data, test_size=0.2, random_state=2019)\n",
    "test, dev = train_test_split(test, test_size=0.1, random_state=2019)"
   ]
  },
  {
   "cell_type": "code",
   "execution_count": 32,
   "metadata": {},
   "outputs": [
    {
     "name": "stdout",
     "output_type": "stream",
     "text": [
      "(4000, 7) (900, 7) (100, 7)\n"
     ]
    }
   ],
   "source": [
    "print(train.shape, test.shape, dev.shape)"
   ]
  },
  {
   "cell_type": "code",
   "execution_count": 33,
   "metadata": {},
   "outputs": [],
   "source": [
    "train[['label', 'detail']].to_csv('data/mytask/train.tsv', index=False, header=False, sep='\\t')\n",
    "test[['label', 'detail']].to_csv('data/mytask/test.tsv', index=False, header=False, sep='\\t')\n",
    "dev[['label', 'detail']].to_csv('data/mytask/dev.tsv', index=False, header=False, sep='\\t')"
   ]
  },
  {
   "cell_type": "code",
   "execution_count": null,
   "metadata": {},
   "outputs": [],
   "source": []
  }
 ],
 "metadata": {
  "kernelspec": {
   "display_name": "conda_tensorflow_p36",
   "language": "python",
   "name": "conda_tensorflow_p36"
  },
  "language_info": {
   "codemirror_mode": {
    "name": "ipython",
    "version": 3
   },
   "file_extension": ".py",
   "mimetype": "text/x-python",
   "name": "python",
   "nbconvert_exporter": "python",
   "pygments_lexer": "ipython3",
   "version": "3.6.5"
  }
 },
 "nbformat": 4,
 "nbformat_minor": 2
}
