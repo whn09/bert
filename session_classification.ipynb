{
 "cells": [
  {
   "cell_type": "code",
   "execution_count": null,
   "metadata": {},
   "outputs": [],
   "source": [
    "import pandas as pd\n",
    "from sklearn.cross_validation import train_test_split\n",
    "pd.set_option('display.max_columns', None)\n",
    "pd.set_option('display.float_format', lambda x: '%.3f' % x)"
   ]
  },
  {
   "cell_type": "code",
   "execution_count": null,
   "metadata": {},
   "outputs": [],
   "source": [
    "data = pd.read_csv('./data/session.csv',encoding='gb18030')"
   ]
  },
  {
   "cell_type": "code",
   "execution_count": null,
   "metadata": {},
   "outputs": [],
   "source": [
    "data.head()"
   ]
  },
  {
   "cell_type": "code",
   "execution_count": null,
   "metadata": {},
   "outputs": [],
   "source": [
    "data[data['用户ID']=='31964968']['详情']"
   ]
  },
  {
   "cell_type": "code",
   "execution_count": null,
   "metadata": {},
   "outputs": [],
   "source": [
    "data['咨询类型'].unique()"
   ]
  },
  {
   "cell_type": "code",
   "execution_count": null,
   "metadata": {},
   "outputs": [],
   "source": [
    "data['基本咨询类型'] = data['咨询类型'].str.split('->', n=1, expand=True)"
   ]
  },
  {
   "cell_type": "code",
   "execution_count": null,
   "metadata": {},
   "outputs": [],
   "source": [
    "data['基本咨询类型'].unique()"
   ]
  },
  {
   "cell_type": "code",
   "execution_count": null,
   "metadata": {},
   "outputs": [],
   "source": [
    "class_mapping = {label:idx for idx,label in enumerate(set(data['基本咨询类型']))}\n",
    "data['label'] = data['基本咨询类型'].map(class_mapping)"
   ]
  },
  {
   "cell_type": "code",
   "execution_count": null,
   "metadata": {},
   "outputs": [],
   "source": [
    "data['label'].unique()"
   ]
  },
  {
   "cell_type": "code",
   "execution_count": null,
   "metadata": {},
   "outputs": [],
   "source": [
    "len(data['label'].unique())"
   ]
  },
  {
   "cell_type": "code",
   "execution_count": null,
   "metadata": {},
   "outputs": [],
   "source": [
    "data['detail'] = data['详情'].str.replace('\\n', ' ')"
   ]
  },
  {
   "cell_type": "code",
   "execution_count": null,
   "metadata": {},
   "outputs": [],
   "source": [
    "details = data['详情'].str.split('\\n', expand=True)"
   ]
  },
  {
   "cell_type": "code",
   "execution_count": null,
   "metadata": {},
   "outputs": [],
   "source": [
    "details.head()"
   ]
  },
  {
   "cell_type": "code",
   "execution_count": 66,
   "metadata": {},
   "outputs": [],
   "source": [
    "def get_first_sentence(sentences):\n",
    "    first_sentence = ''\n",
    "    for i in range(len(sentences)):\n",
    "        if sentences[i] is not None and '2019-05-23' in sentences[i] and '蜜芽' not in sentences[i]:\n",
    "            if len(sentences[i+1]) > 3 and '人工客服' not in sentences[i+1] and '在线咨询' not in sentences[i+1] and '发送图片' not in sentences[i+1]:\n",
    "                first_sentence += sentences[i+1]\n",
    "                # break  # only first sentence\n",
    "    return first_sentence"
   ]
  },
  {
   "cell_type": "code",
   "execution_count": 67,
   "metadata": {},
   "outputs": [],
   "source": [
    "first_sentences = details.apply(lambda row: get_first_sentence(row), axis=1)"
   ]
  },
  {
   "cell_type": "code",
   "execution_count": 68,
   "metadata": {},
   "outputs": [
    {
     "data": {
      "text/plain": [
       "0                               你好 咱们合作的信用卡可以在医院走VIP吗？\n",
       "1                  你们快递今天还没到快递太吓人已经8天了还没到货为什么这么慢这个不好解释\n",
       "2    你好，我换货的商品已经寄回了，快递也显示签收了，什么时候寄回给我退回的商品是否收到我是要换货...\n",
       "3    帮我查一下这一款能不能链接wiflhttps://m.mia.com/item-336268...\n",
       "4    没有显示取消取消订单没有显示取消选项呢订单号：1905231956018268张敏艳1809...\n",
       "dtype: object"
      ]
     },
     "execution_count": 68,
     "metadata": {},
     "output_type": "execute_result"
    }
   ],
   "source": [
    "first_sentences.head()"
   ]
  },
  {
   "cell_type": "code",
   "execution_count": 69,
   "metadata": {},
   "outputs": [],
   "source": [
    "data['first_sentence'] = first_sentences"
   ]
  },
  {
   "cell_type": "code",
   "execution_count": 70,
   "metadata": {},
   "outputs": [],
   "source": [
    "train, test = train_test_split(data, test_size=0.2, random_state=2019)\n",
    "test, dev = train_test_split(test, test_size=0.1, random_state=2019)"
   ]
  },
  {
   "cell_type": "code",
   "execution_count": 71,
   "metadata": {},
   "outputs": [
    {
     "name": "stdout",
     "output_type": "stream",
     "text": [
      "(4000, 9) (900, 9) (100, 9)\n"
     ]
    }
   ],
   "source": [
    "print(train.shape, test.shape, dev.shape)"
   ]
  },
  {
   "cell_type": "code",
   "execution_count": 72,
   "metadata": {},
   "outputs": [],
   "source": [
    "train[['label', 'first_sentence']].to_csv('data/mytask/train.tsv', index=False, header=False, sep='\\t')\n",
    "test[['label', 'first_sentence']].to_csv('data/mytask/test.tsv', index=False, header=False, sep='\\t')\n",
    "dev[['label', 'first_sentence']].to_csv('data/mytask/dev.tsv', index=False, header=False, sep='\\t')"
   ]
  },
  {
   "cell_type": "code",
   "execution_count": null,
   "metadata": {},
   "outputs": [],
   "source": []
  }
 ],
 "metadata": {
  "kernelspec": {
   "display_name": "conda_tensorflow_p36",
   "language": "python",
   "name": "conda_tensorflow_p36"
  },
  "language_info": {
   "codemirror_mode": {
    "name": "ipython",
    "version": 3
   },
   "file_extension": ".py",
   "mimetype": "text/x-python",
   "name": "python",
   "nbconvert_exporter": "python",
   "pygments_lexer": "ipython3",
   "version": "3.6.5"
  }
 },
 "nbformat": 4,
 "nbformat_minor": 2
}
