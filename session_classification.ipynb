{
 "cells": [
  {
   "cell_type": "code",
   "execution_count": 6,
   "metadata": {},
   "outputs": [],
   "source": [
    "import pandas as pd\n",
    "pd.set_option('display.max_columns', None)\n",
    "pd.set_option('display.float_format', lambda x: '%.3f' % x)"
   ]
  },
  {
   "cell_type": "code",
   "execution_count": 4,
   "metadata": {},
   "outputs": [],
   "source": [
    "data = pd.read_csv('./data/session.csv',encoding='gb18030')"
   ]
  },
  {
   "cell_type": "code",
   "execution_count": 7,
   "metadata": {},
   "outputs": [
    {
     "data": {
      "text/html": [
       "<div>\n",
       "<style scoped>\n",
       "    .dataframe tbody tr th:only-of-type {\n",
       "        vertical-align: middle;\n",
       "    }\n",
       "\n",
       "    .dataframe tbody tr th {\n",
       "        vertical-align: top;\n",
       "    }\n",
       "\n",
       "    .dataframe thead th {\n",
       "        text-align: right;\n",
       "    }\n",
       "</style>\n",
       "<table border=\"1\" class=\"dataframe\">\n",
       "  <thead>\n",
       "    <tr style=\"text-align: right;\">\n",
       "      <th></th>\n",
       "      <th>用户ID</th>\n",
       "      <th>会话开始时间</th>\n",
       "      <th>咨询类型</th>\n",
       "      <th>咨询总结备注</th>\n",
       "      <th>详情</th>\n",
       "    </tr>\n",
       "  </thead>\n",
       "  <tbody>\n",
       "    <tr>\n",
       "      <th>0</th>\n",
       "      <td>31964968</td>\n",
       "      <td>2019-05-23 23:55:11</td>\n",
       "      <td>售前问题（在线专用）-&gt;商品咨询 - -</td>\n",
       "      <td>nan</td>\n",
       "      <td>机器人2(蜜芽智能客服) 2019-05-23 23:55:11\\n[xh]甄选洗衣液销售火...</td>\n",
       "    </tr>\n",
       "    <tr>\n",
       "      <th>1</th>\n",
       "      <td>32860495</td>\n",
       "      <td>2019-05-23 23:54:58</td>\n",
       "      <td>售中问题（在线专用）-&gt;物流问题 - -</td>\n",
       "      <td>nan</td>\n",
       "      <td>机器人4(蜜芽智能客服) 2019-05-23 23:54:58\\n[xh]甄选洗衣液销售火...</td>\n",
       "    </tr>\n",
       "    <tr>\n",
       "      <th>2</th>\n",
       "      <td>24009062</td>\n",
       "      <td>2019-05-23 23:54:03</td>\n",
       "      <td>售中问题（在线专用）-&gt;物流问题 - -</td>\n",
       "      <td>nan</td>\n",
       "      <td>机器人3(蜜芽智能客服) 2019-05-23 23:54:03\\n[xh]甄选洗衣液销售火...</td>\n",
       "    </tr>\n",
       "    <tr>\n",
       "      <th>3</th>\n",
       "      <td>34644663</td>\n",
       "      <td>2019-05-23 23:53:11</td>\n",
       "      <td>售前问题（在线专用）-&gt;商品咨询 - -</td>\n",
       "      <td>nan</td>\n",
       "      <td>机器人2(蜜芽智能客服) 2019-05-23 23:53:11\\n[xh]甄选洗衣液销售火...</td>\n",
       "    </tr>\n",
       "    <tr>\n",
       "      <th>4</th>\n",
       "      <td>38445693</td>\n",
       "      <td>2019-05-23 23:53:02</td>\n",
       "      <td>售中问题（在线专用）-&gt;取消订单 - -</td>\n",
       "      <td>nan</td>\n",
       "      <td>机器人1(蜜芽智能客服) 2019-05-23 23:53:02\\n[xh]甄选洗衣液销售火...</td>\n",
       "    </tr>\n",
       "  </tbody>\n",
       "</table>\n",
       "</div>"
      ],
      "text/plain": [
       "       用户ID               会话开始时间                  咨询类型  咨询总结备注  \\\n",
       "0  31964968  2019-05-23 23:55:11  售前问题（在线专用）->商品咨询 - -     nan   \n",
       "1  32860495  2019-05-23 23:54:58  售中问题（在线专用）->物流问题 - -     nan   \n",
       "2  24009062  2019-05-23 23:54:03  售中问题（在线专用）->物流问题 - -     nan   \n",
       "3  34644663  2019-05-23 23:53:11  售前问题（在线专用）->商品咨询 - -     nan   \n",
       "4  38445693  2019-05-23 23:53:02  售中问题（在线专用）->取消订单 - -     nan   \n",
       "\n",
       "                                                  详情  \n",
       "0  机器人2(蜜芽智能客服) 2019-05-23 23:55:11\\n[xh]甄选洗衣液销售火...  \n",
       "1  机器人4(蜜芽智能客服) 2019-05-23 23:54:58\\n[xh]甄选洗衣液销售火...  \n",
       "2  机器人3(蜜芽智能客服) 2019-05-23 23:54:03\\n[xh]甄选洗衣液销售火...  \n",
       "3  机器人2(蜜芽智能客服) 2019-05-23 23:53:11\\n[xh]甄选洗衣液销售火...  \n",
       "4  机器人1(蜜芽智能客服) 2019-05-23 23:53:02\\n[xh]甄选洗衣液销售火...  "
      ]
     },
     "execution_count": 7,
     "metadata": {},
     "output_type": "execute_result"
    }
   ],
   "source": [
    "data.head()"
   ]
  },
  {
   "cell_type": "code",
   "execution_count": 14,
   "metadata": {},
   "outputs": [
    {
     "data": {
      "text/plain": [
       "0    机器人2(蜜芽智能客服) 2019-05-23 23:55:11\\n[xh]甄选洗衣液销售火...\n",
       "Name: 详情, dtype: object"
      ]
     },
     "execution_count": 14,
     "metadata": {},
     "output_type": "execute_result"
    }
   ],
   "source": [
    "data[data['用户ID']=='31964968']['详情']"
   ]
  },
  {
   "cell_type": "code",
   "execution_count": null,
   "metadata": {},
   "outputs": [],
   "source": []
  }
 ],
 "metadata": {
  "kernelspec": {
   "display_name": "conda_tensorflow_p36",
   "language": "python",
   "name": "conda_tensorflow_p36"
  },
  "language_info": {
   "codemirror_mode": {
    "name": "ipython",
    "version": 3
   },
   "file_extension": ".py",
   "mimetype": "text/x-python",
   "name": "python",
   "nbconvert_exporter": "python",
   "pygments_lexer": "ipython3",
   "version": "3.6.5"
  }
 },
 "nbformat": 4,
 "nbformat_minor": 2
}
